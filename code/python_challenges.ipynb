{
 "cells": [
  {
   "cell_type": "markdown",
   "metadata": {},
   "source": [
    "### Operations\n",
    "- Python implements 7 basic binary arithmic operators, two of which can double as unary operators.\n",
    "- Python implements 6 comparison operators which return Boolean values True and False.\n",
    "- Python implements 3 Boolean operators using the standard concepts of 'and', 'or', and 'not'."
   ]
  },
  {
   "cell_type": "code",
   "execution_count": 24,
   "metadata": {},
   "outputs": [
    {
     "name": "stdout",
     "output_type": "stream",
     "text": [
      "\n",
      "Given a = 7 and b = 3, the results of all arithmic operations are:\n",
      "\n",
      "Addition (7 + 3): 10\n",
      "Subtraction (7 - 3): 4\n",
      "Multiplication (7 * 3): 21\n",
      "True Division (7 / 3): 2.3333333333333335\n",
      "Floor Division (7 // 3): 2\n",
      "Modulus (7 % 3): 1\n",
      "Exponentiation (7 ** 3): 343\n",
      "Negation (-7): -7\n",
      "Unary Plus (+7): 7\n",
      "\n",
      "Given a = 7 and b = 3, the results of all comparison operations are:\n",
      "\n",
      "Equal to (7 == 3): False\n",
      "Not equal to (7 != 3): True\n",
      "Less than (7 < 3): False\n",
      "Greater than (7 > 3): True\n",
      "Less than or equal (7 <= 3): False\n",
      "Greater than or equal (7 >= 3): True\n",
      "\n",
      "Given a = 7 and b = 3, the results of all Boolean operations are:\n",
      "\n",
      "Satisfies both (7 > 3) 'and' (7 < 10): True\n",
      "Satisfies either (7 < 3 'or' 7 % 3 == 1): True\n",
      "Not satisfied ('not' 7 < 3): True\n",
      "\n",
      "Given a = 7 and b = 3 the results of identity operations are:\n",
      "\n",
      "7 is 3 + 4: True\n",
      "a is not b (7 is not 3): True\n"
     ]
    }
   ],
   "source": [
    "a, b = 7, 3\n",
    "\n",
    "def arithmics(a, b):\n",
    "    print(f\"\\nGiven a = {a} and b = {b}, the results of all arithmic operations are:\\n\")\n",
    "    \n",
    "    operations = {\n",
    "        f\"Addition ({a} + {b})\": a + b,\n",
    "        f\"Subtraction ({a} - {b})\": a - b,\n",
    "        f\"Multiplication ({a} * {b})\": a * b,\n",
    "        f\"True Division ({a} / {b})\": a / b,\n",
    "        f\"Floor Division ({a} // {b})\": a // b,\n",
    "        f\"Modulus ({a} % {b})\": a % b,\n",
    "        f\"Exponentiation ({a} ** {b})\": a ** b,\n",
    "        f\"Negation (-{a})\": -a,\n",
    "        f\"Unary Plus (+{a})\": +a\n",
    "    }\n",
    "\n",
    "    for name, result in operations.items():\n",
    "        print(f\"{name}: {result}\")\n",
    "\n",
    "\n",
    "def comparisons(a, b):\n",
    "    print(f\"\\nGiven a = {a} and b = {b}, the results of all comparison operations are:\\n\")\n",
    "\n",
    "    operations = {\n",
    "        f\"Equal to ({a} == {b})\": a == b,\n",
    "        f\"Not equal to ({a} != {b})\": a != b,\n",
    "        f\"Less than ({a} < {b})\": a < b,\n",
    "        f\"Greater than ({a} > {b})\": a > b,\n",
    "        f\"Less than or equal ({a} <= {b})\": a <= b,\n",
    "        f\"Greater than or equal ({a} >= {b})\": a >= b\n",
    "    }\n",
    "\n",
    "    for name, result in operations.items():\n",
    "        print(f\"{name}: {result}\")\n",
    "\n",
    "\n",
    "def booleans(a, b):\n",
    "    print(f\"\\nGiven a = {a} and b = {b}, the results of all Boolean operations are:\\n\")\n",
    "\n",
    "    operations = {\n",
    "        f\"Satisfies both ({a} > {b}) 'and' ({a} < 10)\": (a > b) and (a < 10),\n",
    "        f\"Satisfies either ({a} < {b} 'or' {a} % {b} == 1)\": (a < b) or (a % b == 1),\n",
    "        f\"Not satisfied ('not' {a} < {b})\": not (a < b),\n",
    "    }\n",
    "\n",
    "    for name, result in operations.items():\n",
    "        print(f\"{name}: {result}\")\n",
    "\n",
    "\n",
    "def identity(a, b):\n",
    "    print(f\"\\nGiven a = {a} and b = {b} the results of identity operations are:\\n\")\n",
    "\n",
    "    operations = {\n",
    "        f\"{a} is {b} + 4\": a is (b+4),\n",
    "        f\"a is not b ({a} is not {b})\": a is not b\n",
    "    }\n",
    "\n",
    "    for name, result in operations.items():\n",
    "        print(f\"{name}: {result}\")\n",
    "\n",
    "\n",
    "arithmics(a, b)\n",
    "comparisons(a, b)\n",
    "booleans(a, b)\n",
    "identity(a, b)"
   ]
  },
  {
   "cell_type": "markdown",
   "metadata": {},
   "source": [
    "There are two useful statements that can be used within loops to\n",
    "fine-tune how they are executed:\n",
    "\n",
    "- The 'continue' statement skips the remainder of the current\n",
    "loop, and goes to the next iteration\n",
    "- The 'break' statement breaks out of the loop entirely\n"
   ]
  },
  {
   "cell_type": "code",
   "execution_count": 25,
   "metadata": {},
   "outputs": [
    {
     "data": {
      "text/plain": [
       "[1, 2, 3, 5, 8, 13, 21, 34, 55, 89, 144, 233, 377, 610, 987, 1597]"
      ]
     },
     "execution_count": 25,
     "metadata": {},
     "output_type": "execute_result"
    }
   ],
   "source": [
    "def fibonacci(length: int):\n",
    "    a, b = 0, 1\n",
    "    L = []\n",
    "\n",
    "    if length < 0:\n",
    "        raise ValueError(\"Length must be a non-negative integer\")\n",
    "\n",
    "    while True:\n",
    "        (a, b) = (b, a + b)\n",
    "        if a in L:\n",
    "            continue\n",
    "        if len(L) > length:\n",
    "            break\n",
    "        L.append(a)\n",
    "        \n",
    "    return L\n",
    "\n",
    "\n",
    "fibonacci(15)"
   ]
  },
  {
   "cell_type": "markdown",
   "metadata": {},
   "source": [
    "### Python Basics Challenges"
   ]
  },
  {
   "cell_type": "code",
   "execution_count": 30,
   "metadata": {},
   "outputs": [
    {
     "data": {
      "text/plain": [
       "'H3110 W0R1D!'"
      ]
     },
     "execution_count": 30,
     "metadata": {},
     "output_type": "execute_result"
    }
   ],
   "source": [
    "def to_leetspeak(text: str=None):\n",
    "    \"\"\"4.9 Convert user input to leetspeak.\"\"\"\n",
    "    # Get user input if None provided\n",
    "    if text is None:\n",
    "        text = input(\"Enter text to convert to leetspeak: \")\n",
    "    \n",
    "    leet_dict = {\n",
    "        'A': '4', 'B': '8', 'C': 'C', 'D': 'D', 'E': '3',\n",
    "        'F': 'F', 'G': 'G', 'H': 'H', 'I': '1', 'J': 'J',\n",
    "        'K': 'K', 'L': '1', 'M': 'M', 'N': 'N', 'O': '0',\n",
    "        'P': 'P', 'Q': 'Q', 'R': 'R', 'S': '5', 'T': 'T',\n",
    "        'U': 'U', 'V': 'V', 'W': 'W', 'X': '%', 'Y': 'Y',\n",
    "        'Z': 'Z'\n",
    "    }\n",
    "\n",
    "    leetspeak = ''.join(leet_dict.get(char.upper(), char) for char in text)\n",
    "    return leetspeak\n",
    "\n",
    "to_leetspeak(\"Hello World!\")"
   ]
  },
  {
   "cell_type": "code",
   "execution_count": 27,
   "metadata": {},
   "outputs": [
    {
     "name": "stdout",
     "output_type": "stream",
     "text": [
      "7.0 to the power of 2.0 is: 49.0\n"
     ]
    }
   ],
   "source": [
    "def calc_exponent(base_str: str=None, exponent_str: str=None):\n",
    "    \"\"\"\n",
    "    5.3 Prompts the user for two numbers, calculates the first number\n",
    "    raised to the power of the second, and prints the result.\n",
    "    \"\"\"\n",
    "    try:\n",
    "        # 1. Get user input if not provided for the base and exponent\n",
    "        if base_str is None or exponent_str is None:\n",
    "            base_str = input(\"Enter the base number: \")\n",
    "            exponent_str = input(\"Enter the exponent: \")\n",
    "\n",
    "        # 2. Convert the input strings to floating-point numbers\n",
    "        base = float(base_str)\n",
    "        exponent = float(exponent_str)\n",
    "\n",
    "        # 3. Calculate the result using the ** operator\n",
    "        result = base ** exponent\n",
    "\n",
    "        # 4. Print the result using an f-string\n",
    "        print(f\"{base} to the power of {exponent} is: {result}\")\n",
    "\n",
    "    except ValueError:\n",
    "        # Handle cases where the input cannot be converted to a number\n",
    "        print(\"Error: Invalid input. Please enter valid numbers.\")\n",
    "    except Exception as e:\n",
    "        # Handle other potential errors during calculation\n",
    "        print(f\"An unexpected error occurred: {e}\")\n",
    "\n",
    "# Call the function to execute it\n",
    "calc_exponent(7, 2)"
   ]
  },
  {
   "cell_type": "code",
   "execution_count": 28,
   "metadata": {},
   "outputs": [
    {
     "name": "stdout",
     "output_type": "stream",
     "text": [
      "Principal amount: $1,000.00\n",
      "Annual rate of return: 7.50%\n",
      "------------------------------\n",
      "Year\tEnding Balance\n",
      "------------------------------\n",
      "1   \t$1,075.00\n",
      "2   \t$1,155.62\n",
      "3   \t$1,242.30\n",
      "4   \t$1,335.47\n",
      "5   \t$1,435.63\n",
      "6   \t$1,543.30\n",
      "7   \t$1,659.05\n",
      "8   \t$1,783.48\n",
      "9   \t$1,917.24\n",
      "10  \t$2,061.03\n"
     ]
    }
   ],
   "source": [
    "def calc_invest(principal: float, rate: float, years: int):\n",
    "    \"\"\"\n",
    "    6.5 Calculates and prints the year-by-year growth of an investment.\n",
    "\n",
    "    This function demonstrates the effect of compound interest on a principal\n",
    "    amount over a specified number of years.\n",
    "\n",
    "    Args:\n",
    "        principal (float): The initial investment amount.\n",
    "        rate (float): The annual rate of return as a decimal (e.g., 0.05 for 5%).\n",
    "        years (int): The number of years to calculate the investment growth.\n",
    "    \"\"\"\n",
    "    if not isinstance(principal, (int, float)) or principal < 0:\n",
    "        raise ValueError(\"'principal' must be a non-negative number.\")\n",
    "    if not isinstance(rate, (int, float)) or rate < 0:\n",
    "        raise ValueError(\"'rate' must be a non-negative number.\")\n",
    "    if not isinstance(years, int) or years <= 0:\n",
    "        raise ValueError(\"'years' must be a positive integer.\")\n",
    "\n",
    "    print(f\"Principal amount: ${principal:,.2f}\")\n",
    "    print(f\"Annual rate of return: {rate:.2%}\")\n",
    "    print(\"-\" * 30)\n",
    "    print(\"Year\\tEnding Balance\")\n",
    "    print(\"-\" * 30)\n",
    "\n",
    "    current_balance = float(principal)\n",
    "    for year in range(1, years + 1):\n",
    "        current_balance *= (1 + rate)\n",
    "        print(f\"{year:<4}\\t${current_balance:,.2f}\")\n",
    "\n",
    "# Example Usage of how an investment of $1,000 at a 7.5% annual return grows over 10 years.\n",
    "calc_invest(principal=1000, rate=0.075, years=10)\n"
   ]
  },
  {
   "cell_type": "code",
   "execution_count": 52,
   "metadata": {},
   "outputs": [
    {
     "name": "stdout",
     "output_type": "stream",
     "text": [
      "The average number of coinflips required for throwing both Heads and Tails after 10000 is: 3.0056\n"
     ]
    },
    {
     "data": {
      "text/plain": [
       "3.0056"
      ]
     },
     "execution_count": 52,
     "metadata": {},
     "output_type": "execute_result"
    }
   ],
   "source": [
    "import random\n",
    "\n",
    "def calc_invest(num_simulations: int=10000) -> float:\n",
    "    \"\"\"\n",
    "    8.8 Simulates a series of coin flips and stores the results in a list.\n",
    "    Each flip has a 50% chance of being a 1 (Heads) or a 0 (Tails).\n",
    "\n",
    "    Args:\n",
    "        num_flips (int): The number of coin flips to simulate, must be a positive integer.\n",
    "    Returns:\n",
    "        The calculated average length of a simulation to contain both Heads and Tails.\n",
    "    \"\"\"\n",
    "\n",
    "    if not isinstance(num_simulations, int) or num_simulations <= 0:\n",
    "        raise ValueError(\"Number of flips must be a positive integer.\")\n",
    "    \n",
    "\n",
    "    # Initialize list of results\n",
    "    num_flips = []\n",
    "\n",
    "    for i in range(num_simulations):\n",
    "        # Flip initial 2 coins:\n",
    "        simulation = [random.choice([0, 1]), random.choice([0, 1])]\n",
    "        # Keep flipping coins till both Heads (1) and Tails (0) are encountered in the set\n",
    "        while len(set(simulation)) < 2:\n",
    "            simulation.append(random.choice([0, 1]))\n",
    "\n",
    "        # Add the number of coinflips to a seperate list to calculate the average\n",
    "        num_flips.append(len(simulation))\n",
    "\n",
    "    average = sum(num_flips) / len(num_flips)\n",
    "    print(f\"The average number of coinflips required for throwing both Heads and Tails after {num_simulations} is: {average}\")\n",
    "    return average\n",
    "\n",
    "\n",
    "calc_invest()"
   ]
  },
  {
   "cell_type": "code",
   "execution_count": 59,
   "metadata": {},
   "outputs": [
    {
     "data": {
      "text/plain": [
       "['furry',\n",
       " 'balding',\n",
       " 'extrovert',\n",
       " 'pirate',\n",
       " 'pineapple',\n",
       " 'sensuously',\n",
       " 'slurps',\n",
       " 'explodes',\n",
       " 'kicks',\n",
       " 'beneath',\n",
       " 'into']"
      ]
     },
     "execution_count": 59,
     "metadata": {},
     "output_type": "execute_result"
    }
   ],
   "source": [
    "import random\n",
    "from typing import Dict, List\n",
    "\n",
    "def generate_poetry() -> str:\n",
    "    \"\"\"\n",
    "    9.5 Generates a short poem\n",
    "    \"\"\"\n",
    "\n",
    "\n",
    "# --- Data Setup ---\n",
    "dict_words = {\n",
    "    \"Adjective\": {\n",
    "        \"count\": 2,\n",
    "        \"words\": [\"furry\", \"balding\", \"incredulous\", \"fragrant\", \"stubborn\", \"adventurous\"]\n",
    "    },\n",
    "    \"Noun\": {\n",
    "        \"count\": 3,\n",
    "        \"words\": [\"fossil\", \"dolphin\", \"kraken\", \"pirate\", \"compass\", \"pineapple\", \"extrovert\", \"monkey\"]\n",
    "    },\n",
    "    \"Adverb\": {\n",
    "        \"count\": 1,\n",
    "        \"words\": [\"curiously\", \"extravagantly\", \"tantalizingly\", \"furiously\", \"sensuously\"]\n",
    "    },\n",
    "    \"Verb\": {\n",
    "        \"count\": 3,\n",
    "        \"words\": [\"kicks\", \"jingles\", \"bounces\", \"slurps\", \"screams\", \"explodes\", \"curdles\"]\n",
    "    },\n",
    "    \"Preposition\": {\n",
    "        \"count\": 2,\n",
    "        \"words\": [\"against\", \"after\", \"into\", \"beneath\", \"upon\", \"for\", \"in\", \"like\", \"over\", \"within\"]\n",
    "    }\n",
    "}\n",
    "\n",
    "def select_random_words(dict_words: Dict[str, Dict]) -> List[str]:\n",
    "    \"\"\"\n",
    "    Selects a specified number of unique random elements from lists in a dictionary.\n",
    "    \"\"\"\n",
    "    word_selection = []\n",
    "    for category, details in dict_words.items():\n",
    "        count = details[\"count\"]\n",
    "        word_list = details[\"words\"]\n",
    "        \n",
    "        if count > len(word_list):\n",
    "            raise ValueError(f\"Cannot select {count} items from '{category} with {len(category)} values'.\")\n",
    "        \n",
    "        # Use random.sample to select unique items\n",
    "        word_selection.extend(random.sample(word_list, k=count))\n",
    "            \n",
    "    return word_selection\n",
    "\n",
    "\n",
    "select_random_words(dict_words)"
   ]
  }
 ],
 "metadata": {
  "kernelspec": {
   "display_name": "hello-world",
   "language": "python",
   "name": "python3"
  },
  "language_info": {
   "codemirror_mode": {
    "name": "ipython",
    "version": 3
   },
   "file_extension": ".py",
   "mimetype": "text/x-python",
   "name": "python",
   "nbconvert_exporter": "python",
   "pygments_lexer": "ipython3",
   "version": "3.10.11"
  }
 },
 "nbformat": 4,
 "nbformat_minor": 2
}
