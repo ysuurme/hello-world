{
 "cells": [
  {
   "cell_type": "markdown",
   "metadata": {},
   "source": [
    "### Arithmic Operations\n",
    "Python implements 7 basic binary arithmic operators, two of which can double as unary operators."
   ]
  },
  {
   "cell_type": "code",
   "execution_count": 13,
   "metadata": {},
   "outputs": [
    {
     "name": "stdout",
     "output_type": "stream",
     "text": [
      "Given a = 7 and b = 3, the results of all arithmic operators are:\n",
      "\n",
      "Addition (7 + 3): 10\n",
      "Subtraction (7 - 3): 4\n",
      "Multiplication (7 * 3): 21\n",
      "True Division (7 / 3): 2.3333333333333335\n",
      "Floor Division (7 // 3): 2\n",
      "Modulus (7 % 3): 1\n",
      "Exponentiation (7 ** 3): 343\n",
      "Negation (-7): -7\n",
      "Unary Plus (+7): 7\n"
     ]
    }
   ],
   "source": [
    "def arithmics():\n",
    "    a, b = 7, 3\n",
    "    print(f\"Given a = {a} and b = {b}, the results of all arithmic operators are:\\n\")\n",
    "    \n",
    "    operations = {\n",
    "        f\"Addition ({a} + {b})\": a + b,\n",
    "        f\"Subtraction ({a} - {b})\": a - b,\n",
    "        f\"Multiplication ({a} * {b})\": a * b,\n",
    "        f\"True Division ({a} / {b})\": a / b,\n",
    "        f\"Floor Division ({a} // {b})\": a // b,\n",
    "        f\"Modulus ({a} % {b})\": a % b,\n",
    "        f\"Exponentiation ({a} ** {b})\": a ** b,\n",
    "        f\"Negation (-{a})\": -a,\n",
    "        f\"Unary Plus (+{a})\": +a\n",
    "    }\n",
    "\n",
    "    for name, result in operations.items():\n",
    "        print(f\"{name}: {result}\")\n",
    "\n",
    "\n",
    "\n",
    "arithmics()"
   ]
  },
  {
   "cell_type": "markdown",
   "metadata": {},
   "source": []
  }
 ],
 "metadata": {
  "kernelspec": {
   "display_name": "hello-world",
   "language": "python",
   "name": "python3"
  },
  "language_info": {
   "codemirror_mode": {
    "name": "ipython",
    "version": 3
   },
   "file_extension": ".py",
   "mimetype": "text/x-python",
   "name": "python",
   "nbconvert_exporter": "python",
   "pygments_lexer": "ipython3",
   "version": "3.10.11"
  }
 },
 "nbformat": 4,
 "nbformat_minor": 2
}
