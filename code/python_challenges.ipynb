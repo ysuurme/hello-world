{
 "cells": [
  {
   "cell_type": "markdown",
   "metadata": {},
   "source": [
    "### Operations\n",
    "- Python implements 7 basic binary arithmic operators, two of which can double as unary operators.\n",
    "- Python implements 6 comparison operators which return Boolean values True and False.\n",
    "- Python implements 3 Boolean operators using the standard concepts of 'and', 'or', and 'not'."
   ]
  },
  {
   "cell_type": "code",
   "execution_count": 34,
   "metadata": {},
   "outputs": [
    {
     "name": "stdout",
     "output_type": "stream",
     "text": [
      "\n",
      "Given a = 7 and b = 3, the results of all arithmic operations are:\n",
      "\n",
      "Addition (7 + 3): 10\n",
      "Subtraction (7 - 3): 4\n",
      "Multiplication (7 * 3): 21\n",
      "True Division (7 / 3): 2.3333333333333335\n",
      "Floor Division (7 // 3): 2\n",
      "Modulus (7 % 3): 1\n",
      "Exponentiation (7 ** 3): 343\n",
      "Negation (-7): -7\n",
      "Unary Plus (+7): 7\n",
      "\n",
      "Given a = 7 and b = 3, the results of all comparison operations are:\n",
      "\n",
      "Equal to (7 == 3): False\n",
      "Not equal to (7 != 3): True\n",
      "Less than (7 < 3): False\n",
      "Greater than (7 > 3): True\n",
      "Less than or equal (7 <= 3): False\n",
      "Greater than or equal (7 >= 3): True\n",
      "\n",
      "Given a = 7 and b = 3, the results of all Boolean operations are:\n",
      "\n",
      "Satisfies both (7 > 3) 'and' (7 < 10): True\n",
      "Satisfies either (7 < 3 'or' 7 % 3 == 1): True\n",
      "Not satisfied ('not' 7 < 3): True\n",
      "\n",
      "Given a = 7 and b = 3 the results of identity operations are:\n",
      "\n",
      "7 is 3 + 4: True\n",
      "a is not b (7 is not 3): True\n"
     ]
    }
   ],
   "source": [
    "a, b = 7, 3\n",
    "\n",
    "def arithmics(a, b):\n",
    "    print(f\"\\nGiven a = {a} and b = {b}, the results of all arithmic operations are:\\n\")\n",
    "    \n",
    "    operations = {\n",
    "        f\"Addition ({a} + {b})\": a + b,\n",
    "        f\"Subtraction ({a} - {b})\": a - b,\n",
    "        f\"Multiplication ({a} * {b})\": a * b,\n",
    "        f\"True Division ({a} / {b})\": a / b,\n",
    "        f\"Floor Division ({a} // {b})\": a // b,\n",
    "        f\"Modulus ({a} % {b})\": a % b,\n",
    "        f\"Exponentiation ({a} ** {b})\": a ** b,\n",
    "        f\"Negation (-{a})\": -a,\n",
    "        f\"Unary Plus (+{a})\": +a\n",
    "    }\n",
    "\n",
    "    for name, result in operations.items():\n",
    "        print(f\"{name}: {result}\")\n",
    "\n",
    "\n",
    "def comparisons(a, b):\n",
    "    print(f\"\\nGiven a = {a} and b = {b}, the results of all comparison operations are:\\n\")\n",
    "\n",
    "    operations = {\n",
    "        f\"Equal to ({a} == {b})\": a == b,\n",
    "        f\"Not equal to ({a} != {b})\": a != b,\n",
    "        f\"Less than ({a} < {b})\": a < b,\n",
    "        f\"Greater than ({a} > {b})\": a > b,\n",
    "        f\"Less than or equal ({a} <= {b})\": a <= b,\n",
    "        f\"Greater than or equal ({a} >= {b})\": a >= b\n",
    "    }\n",
    "\n",
    "    for name, result in operations.items():\n",
    "        print(f\"{name}: {result}\")\n",
    "\n",
    "\n",
    "def booleans(a, b):\n",
    "    print(f\"\\nGiven a = {a} and b = {b}, the results of all Boolean operations are:\\n\")\n",
    "\n",
    "    operations = {\n",
    "        f\"Satisfies both ({a} > {b}) 'and' ({a} < 10)\": (a > b) and (a < 10),\n",
    "        f\"Satisfies either ({a} < {b} 'or' {a} % {b} == 1)\": (a < b) or (a % b == 1),\n",
    "        f\"Not satisfied ('not' {a} < {b})\": not (a < b),\n",
    "    }\n",
    "\n",
    "    for name, result in operations.items():\n",
    "        print(f\"{name}: {result}\")\n",
    "\n",
    "\n",
    "def identity(a, b):\n",
    "    print(f\"\\nGiven a = {a} and b = {b} the results of identity operations are:\\n\")\n",
    "\n",
    "    operations = {\n",
    "        f\"{a} is {b} + 4\": a is (b+4),\n",
    "        f\"a is not b ({a} is not {b})\": a is not b\n",
    "    }\n",
    "\n",
    "    for name, result in operations.items():\n",
    "        print(f\"{name}: {result}\")\n",
    "\n",
    "\n",
    "arithmics(a, b)\n",
    "comparisons(a, b)\n",
    "booleans(a, b)\n",
    "identity(a, b)"
   ]
  },
  {
   "cell_type": "markdown",
   "metadata": {},
   "source": [
    "There are two useful statements that can be used within loops to\n",
    "fine-tune how they are executed:\n",
    "\n",
    "- The 'continue' statement skips the remainder of the current\n",
    "loop, and goes to the next iteration\n",
    "- The 'break' statement breaks out of the loop entirely\n"
   ]
  },
  {
   "cell_type": "code",
   "execution_count": 61,
   "metadata": {},
   "outputs": [
    {
     "data": {
      "text/plain": [
       "[1, 2, 3, 5, 8, 13, 21, 34, 55, 89, 144]"
      ]
     },
     "execution_count": 61,
     "metadata": {},
     "output_type": "execute_result"
    }
   ],
   "source": [
    "def fibonacci(length=10):\n",
    "    a, b = 0, 1\n",
    "    L = []\n",
    "\n",
    "    if length < 0:\n",
    "        raise ValueError(\"Length must be a non-negative integer\")\n",
    "\n",
    "    while True:\n",
    "        (a, b) = (b, a + b)\n",
    "        if a in L:\n",
    "            continue\n",
    "        if len(L) > length:\n",
    "            break\n",
    "        L.append(a)\n",
    "        \n",
    "    return L\n",
    "\n",
    "\n",
    "fibonacci(10)"
   ]
  },
  {
   "cell_type": "markdown",
   "metadata": {},
   "source": [
    "### Python Basics Challenges"
   ]
  },
  {
   "cell_type": "code",
   "execution_count": 72,
   "metadata": {},
   "outputs": [
    {
     "name": "stdout",
     "output_type": "stream",
     "text": [
      "1 11K3 T0 34T 3GG5 4ND 5P4M!\n"
     ]
    }
   ],
   "source": [
    "def to_leetspeak():\n",
    "    \"\"\"4.9 Convert user input to leetspeak.\"\"\"\n",
    "\n",
    "    text = input(\"Enter text to convert to leetspeak: \")\n",
    "    \n",
    "    leet_dict = {\n",
    "        'A': '4', 'B': '8', 'C': 'C', 'D': 'D', 'E': '3',\n",
    "        'F': 'F', 'G': 'G', 'H': 'H', 'I': '1', 'J': 'J',\n",
    "        'K': 'K', 'L': '1', 'M': 'M', 'N': 'N', 'O': '0',\n",
    "        'P': 'P', 'Q': 'Q', 'R': 'R', 'S': '5', 'T': 'T',\n",
    "        'U': 'U', 'V': 'V', 'W': 'W', 'X': '%', 'Y': 'Y',\n",
    "        'Z': 'Z'\n",
    "    }\n",
    "\n",
    "    leetspeak = ''.join(leet_dict.get(char.upper(), char) for char in text)\n",
    "    return leetspeak\n",
    "\n",
    "print(to_leetspeak())"
   ]
  },
  {
   "cell_type": "code",
   "execution_count": null,
   "metadata": {},
   "outputs": [],
   "source": []
  }
 ],
 "metadata": {
  "kernelspec": {
   "display_name": "hello-world",
   "language": "python",
   "name": "python3"
  },
  "language_info": {
   "codemirror_mode": {
    "name": "ipython",
    "version": 3
   },
   "file_extension": ".py",
   "mimetype": "text/x-python",
   "name": "python",
   "nbconvert_exporter": "python",
   "pygments_lexer": "ipython3",
   "version": "3.10.11"
  }
 },
 "nbformat": 4,
 "nbformat_minor": 2
}
